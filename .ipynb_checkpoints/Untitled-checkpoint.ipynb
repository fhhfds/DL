{
 "cells": [
  {
   "cell_type": "markdown",
   "id": "cbed7767-ec93-4a4e-a99f-4d370e64b5a0",
   "metadata": {},
   "source": [
    "## 数据处理"
   ]
  },
  {
   "cell_type": "code",
   "execution_count": 1,
   "id": "38296be5-a837-4c75-8aee-3d16bd4b3b38",
   "metadata": {},
   "outputs": [
    {
     "name": "stdout",
     "output_type": "stream",
     "text": [
      "torch.Size([384, 384])\n"
     ]
    },
    {
     "data": {
      "text/plain": [
       "(4532, 1416, 1134)"
      ]
     },
     "execution_count": 1,
     "metadata": {},
     "output_type": "execute_result"
    }
   ],
   "source": [
    "import io\n",
    "import os\n",
    "import numpy as np\n",
    "from PIL import Image as PilImage\n",
    "import torch\n",
    "from torch.utils.data import DataLoader\n",
    "from torchvision import transforms as T\n",
    "from datapre import get_kt_datasets\n",
    "\n",
    "rootDir = \"C:/Users/29779/Desktop/DL\"\n",
    "train_set, val_set, test_set = get_kt_datasets(rootDir)\n",
    "\n",
    "img, label = train_set[1]\n",
    "print(label.shape)\n",
    "\n",
    "len(train_set),len(test_set),  len(val_set)"
   ]
  },
  {
   "cell_type": "code",
   "execution_count": 2,
   "id": "a40a89d9-3929-4a4d-9996-53aabfb32dd4",
   "metadata": {},
   "outputs": [],
   "source": [
    "# 使用 DataLoader 加载数据集\n",
    "train_loader = DataLoader(train_set, batch_size=2, shuffle=True)\n",
    "val_loader = DataLoader(val_set, batch_size=2, shuffle=False)\n",
    "test_loader = DataLoader(test_set, batch_size=2, shuffle=False)"
   ]
  },
  {
   "cell_type": "markdown",
   "id": "9f0b6719-3f6a-471d-b61a-389729fff955",
   "metadata": {},
   "source": [
    "## 训练模型"
   ]
  },
  {
   "cell_type": "code",
   "execution_count": 3,
   "id": "0d6f9b82-8862-4dcb-b528-0dfcf1ebb944",
   "metadata": {},
   "outputs": [],
   "source": [
    "import torch.nn as nn\n",
    "import torch.optim as optim\n",
    "from Segformer import segformer_mit_b0\n",
    "from train import train_validate_model\n",
    "from torch.optim.lr_scheduler import OneCycleLR\n",
    "from utils import meanIoU\n",
    "\n",
    "device = torch.device(\"cuda:0\" if torch.cuda.is_available() else \"cpu\") \n",
    "\n",
    "criterion = nn.CrossEntropyLoss()\n",
    "model_name = \"people_detect\"\n",
    "epochs = 20\n",
    "num_classes = 2\n",
    "lr = 1e-4\n",
    "\n",
    "model = segformer_mit_b0(in_channels=3, num_classes=num_classes).to(device)\n",
    "model.load_state_dict(torch.load(\"C:/Users/29779/Desktop/DL/results/segformer_b0_backbone_weights.pth\"), strict=False)\n",
    "\n",
    "optimizer = optim.Adam(model.parameters(), lr=lr)\n",
    "scheduler = OneCycleLR(optimizer, max_lr= lr, epochs = epochs, \n",
    "                        steps_per_epoch = len(train_loader), div_factor=10)"
   ]
  },
  {
   "cell_type": "code",
   "execution_count": 4,
   "id": "e66c6cf4-ff52-417c-94de-d7a3cf2545d1",
   "metadata": {},
   "outputs": [
    {
     "name": "stdout",
     "output_type": "stream",
     "text": [
      "Starting 1 epoch ...\n"
     ]
    },
    {
     "name": "stderr",
     "output_type": "stream",
     "text": [
      "100%|█████████████████████████████████████████████████████████████████████████████| 2266/2266 [24:33<00:00,  1.54it/s]\n",
      "100%|███████████████████████████████████████████████████████████████████████████████| 567/567 [06:02<00:00,  1.56it/s]\n"
     ]
    },
    {
     "name": "stdout",
     "output_type": "stream",
     "text": [
      "Epoch: 1, trainLoss:2.14545, validationLoss:0.79132, meanIoU: 0.55\n",
      "Starting 2 epoch ...\n"
     ]
    },
    {
     "name": "stderr",
     "output_type": "stream",
     "text": [
      "100%|█████████████████████████████████████████████████████████████████████████████| 2266/2266 [23:53<00:00,  1.58it/s]\n",
      "100%|███████████████████████████████████████████████████████████████████████████████| 567/567 [05:54<00:00,  1.60it/s]\n"
     ]
    },
    {
     "name": "stdout",
     "output_type": "stream",
     "text": [
      "Epoch: 2, trainLoss:1.10964, validationLoss:0.92354, meanIoU: 0.49\n",
      "Starting 3 epoch ...\n"
     ]
    },
    {
     "name": "stderr",
     "output_type": "stream",
     "text": [
      "100%|█████████████████████████████████████████████████████████████████████████████| 2266/2266 [24:07<00:00,  1.57it/s]\n",
      "100%|███████████████████████████████████████████████████████████████████████████████| 567/567 [06:03<00:00,  1.56it/s]\n"
     ]
    },
    {
     "name": "stdout",
     "output_type": "stream",
     "text": [
      "Epoch: 3, trainLoss:0.93500, validationLoss:0.67846, meanIoU: 0.54\n",
      "Starting 4 epoch ...\n"
     ]
    },
    {
     "name": "stderr",
     "output_type": "stream",
     "text": [
      "100%|█████████████████████████████████████████████████████████████████████████████| 2266/2266 [24:07<00:00,  1.57it/s]\n",
      "100%|███████████████████████████████████████████████████████████████████████████████| 567/567 [06:03<00:00,  1.56it/s]\n"
     ]
    },
    {
     "name": "stdout",
     "output_type": "stream",
     "text": [
      "Epoch: 4, trainLoss:0.78250, validationLoss:0.50345, meanIoU: 0.60\n",
      "Starting 5 epoch ...\n"
     ]
    },
    {
     "name": "stderr",
     "output_type": "stream",
     "text": [
      "100%|█████████████████████████████████████████████████████████████████████████████| 2266/2266 [23:59<00:00,  1.57it/s]\n",
      "100%|███████████████████████████████████████████████████████████████████████████████| 567/567 [05:53<00:00,  1.60it/s]\n"
     ]
    },
    {
     "name": "stdout",
     "output_type": "stream",
     "text": [
      "Epoch: 5, trainLoss:0.57414, validationLoss:0.42224, meanIoU: 0.69\n",
      "Starting 6 epoch ...\n"
     ]
    },
    {
     "name": "stderr",
     "output_type": "stream",
     "text": [
      "100%|█████████████████████████████████████████████████████████████████████████████| 2266/2266 [23:46<00:00,  1.59it/s]\n",
      "100%|███████████████████████████████████████████████████████████████████████████████| 567/567 [05:49<00:00,  1.62it/s]\n"
     ]
    },
    {
     "name": "stdout",
     "output_type": "stream",
     "text": [
      "Epoch: 6, trainLoss:0.45231, validationLoss:0.38252, meanIoU: 0.71\n",
      "Starting 7 epoch ...\n"
     ]
    },
    {
     "name": "stderr",
     "output_type": "stream",
     "text": [
      "100%|█████████████████████████████████████████████████████████████████████████████| 2266/2266 [23:21<00:00,  1.62it/s]\n",
      "100%|███████████████████████████████████████████████████████████████████████████████| 567/567 [05:50<00:00,  1.62it/s]\n"
     ]
    },
    {
     "name": "stdout",
     "output_type": "stream",
     "text": [
      "Epoch: 7, trainLoss:0.38961, validationLoss:0.34205, meanIoU: 0.73\n",
      "Starting 8 epoch ...\n"
     ]
    },
    {
     "name": "stderr",
     "output_type": "stream",
     "text": [
      "100%|█████████████████████████████████████████████████████████████████████████████| 2266/2266 [23:18<00:00,  1.62it/s]\n",
      "100%|███████████████████████████████████████████████████████████████████████████████| 567/567 [05:50<00:00,  1.62it/s]\n"
     ]
    },
    {
     "name": "stdout",
     "output_type": "stream",
     "text": [
      "Epoch: 8, trainLoss:0.34789, validationLoss:0.31783, meanIoU: 0.75\n",
      "Starting 9 epoch ...\n"
     ]
    },
    {
     "name": "stderr",
     "output_type": "stream",
     "text": [
      "100%|█████████████████████████████████████████████████████████████████████████████| 2266/2266 [23:15<00:00,  1.62it/s]\n",
      "100%|███████████████████████████████████████████████████████████████████████████████| 567/567 [05:50<00:00,  1.62it/s]\n"
     ]
    },
    {
     "name": "stdout",
     "output_type": "stream",
     "text": [
      "Epoch: 9, trainLoss:0.31501, validationLoss:0.29124, meanIoU: 0.76\n",
      "Starting 10 epoch ...\n"
     ]
    },
    {
     "name": "stderr",
     "output_type": "stream",
     "text": [
      "100%|█████████████████████████████████████████████████████████████████████████████| 2266/2266 [23:24<00:00,  1.61it/s]\n",
      "100%|███████████████████████████████████████████████████████████████████████████████| 567/567 [05:50<00:00,  1.62it/s]\n"
     ]
    },
    {
     "name": "stdout",
     "output_type": "stream",
     "text": [
      "Epoch: 10, trainLoss:0.28993, validationLoss:0.27154, meanIoU: 0.77\n",
      "Starting 11 epoch ...\n"
     ]
    },
    {
     "name": "stderr",
     "output_type": "stream",
     "text": [
      "100%|█████████████████████████████████████████████████████████████████████████████| 2266/2266 [23:31<00:00,  1.61it/s]\n",
      "100%|███████████████████████████████████████████████████████████████████████████████| 567/567 [05:52<00:00,  1.61it/s]\n"
     ]
    },
    {
     "name": "stdout",
     "output_type": "stream",
     "text": [
      "Epoch: 11, trainLoss:0.26614, validationLoss:0.24023, meanIoU: 0.80\n",
      "Starting 12 epoch ...\n"
     ]
    },
    {
     "name": "stderr",
     "output_type": "stream",
     "text": [
      "100%|█████████████████████████████████████████████████████████████████████████████| 2266/2266 [23:33<00:00,  1.60it/s]\n",
      "100%|███████████████████████████████████████████████████████████████████████████████| 567/567 [05:53<00:00,  1.60it/s]\n"
     ]
    },
    {
     "name": "stdout",
     "output_type": "stream",
     "text": [
      "Epoch: 12, trainLoss:0.24608, validationLoss:0.28849, meanIoU: 0.76\n",
      "Starting 13 epoch ...\n"
     ]
    },
    {
     "name": "stderr",
     "output_type": "stream",
     "text": [
      "100%|█████████████████████████████████████████████████████████████████████████████| 2266/2266 [23:27<00:00,  1.61it/s]\n",
      "100%|███████████████████████████████████████████████████████████████████████████████| 567/567 [05:52<00:00,  1.61it/s]\n"
     ]
    },
    {
     "name": "stdout",
     "output_type": "stream",
     "text": [
      "Epoch: 13, trainLoss:0.23051, validationLoss:0.24159, meanIoU: 0.80\n",
      "Starting 14 epoch ...\n"
     ]
    },
    {
     "name": "stderr",
     "output_type": "stream",
     "text": [
      "100%|█████████████████████████████████████████████████████████████████████████████| 2266/2266 [23:33<00:00,  1.60it/s]\n",
      "100%|███████████████████████████████████████████████████████████████████████████████| 567/567 [05:51<00:00,  1.61it/s]\n"
     ]
    },
    {
     "name": "stdout",
     "output_type": "stream",
     "text": [
      "Epoch: 14, trainLoss:0.21538, validationLoss:0.20443, meanIoU: 0.83\n",
      "Starting 15 epoch ...\n"
     ]
    },
    {
     "name": "stderr",
     "output_type": "stream",
     "text": [
      "100%|█████████████████████████████████████████████████████████████████████████████| 2266/2266 [23:33<00:00,  1.60it/s]\n",
      "100%|███████████████████████████████████████████████████████████████████████████████| 567/567 [05:53<00:00,  1.60it/s]\n"
     ]
    },
    {
     "name": "stdout",
     "output_type": "stream",
     "text": [
      "Epoch: 15, trainLoss:0.20324, validationLoss:0.20278, meanIoU: 0.83\n",
      "Starting 16 epoch ...\n"
     ]
    },
    {
     "name": "stderr",
     "output_type": "stream",
     "text": [
      "100%|█████████████████████████████████████████████████████████████████████████████| 2266/2266 [23:31<00:00,  1.61it/s]\n",
      "100%|███████████████████████████████████████████████████████████████████████████████| 567/567 [05:51<00:00,  1.61it/s]\n"
     ]
    },
    {
     "name": "stdout",
     "output_type": "stream",
     "text": [
      "Epoch: 16, trainLoss:0.19311, validationLoss:0.19524, meanIoU: 0.84\n",
      "Starting 17 epoch ...\n"
     ]
    },
    {
     "name": "stderr",
     "output_type": "stream",
     "text": [
      "100%|█████████████████████████████████████████████████████████████████████████████| 2266/2266 [23:20<00:00,  1.62it/s]\n",
      "100%|███████████████████████████████████████████████████████████████████████████████| 567/567 [05:51<00:00,  1.61it/s]\n"
     ]
    },
    {
     "name": "stdout",
     "output_type": "stream",
     "text": [
      "Epoch: 17, trainLoss:0.18341, validationLoss:0.19249, meanIoU: 0.84\n",
      "Starting 18 epoch ...\n"
     ]
    },
    {
     "name": "stderr",
     "output_type": "stream",
     "text": [
      "100%|█████████████████████████████████████████████████████████████████████████████| 2266/2266 [23:24<00:00,  1.61it/s]\n",
      "100%|███████████████████████████████████████████████████████████████████████████████| 567/567 [05:50<00:00,  1.62it/s]\n"
     ]
    },
    {
     "name": "stdout",
     "output_type": "stream",
     "text": [
      "Epoch: 18, trainLoss:0.17949, validationLoss:0.19083, meanIoU: 0.84\n",
      "Starting 19 epoch ...\n"
     ]
    },
    {
     "name": "stderr",
     "output_type": "stream",
     "text": [
      "100%|█████████████████████████████████████████████████████████████████████████████| 2266/2266 [23:27<00:00,  1.61it/s]\n",
      "100%|███████████████████████████████████████████████████████████████████████████████| 567/567 [05:53<00:00,  1.60it/s]\n"
     ]
    },
    {
     "name": "stdout",
     "output_type": "stream",
     "text": [
      "Epoch: 19, trainLoss:0.17593, validationLoss:0.18832, meanIoU: 0.85\n",
      "Starting 20 epoch ...\n"
     ]
    },
    {
     "name": "stderr",
     "output_type": "stream",
     "text": [
      "100%|█████████████████████████████████████████████████████████████████████████████| 2266/2266 [23:45<00:00,  1.59it/s]\n",
      "100%|███████████████████████████████████████████████████████████████████████████████| 567/567 [05:51<00:00,  1.61it/s]\n"
     ]
    },
    {
     "name": "stdout",
     "output_type": "stream",
     "text": [
      "Epoch: 20, trainLoss:0.17386, validationLoss:0.18726, meanIoU: 0.85\n"
     ]
    },
    {
     "data": {
      "image/png": "[encoded data removed]",
      "text/plain": [
       "<Figure size 1000x400 with 2 Axes>"
      ]
     },
     "metadata": {},
     "output_type": "display_data"
    },
    {
     "data": {
      "image/png": "[encoded data removed]",
      "text/plain": [
       "<Figure size 1000x400 with 1 Axes>"
      ]
     },
     "metadata": {},
     "output_type": "display_data"
    },
    {
     "data": {
      "text/html": [
       "<div>\n",
       "<style scoped>\n",
       "    .dataframe tbody tr th:only-of-type {\n",
       "        vertical-align: middle;\n",
       "    }\n",
       "\n",
       "    .dataframe tbody tr th {\n",
       "        vertical-align: top;\n",
       "    }\n",
       "\n",
       "    .dataframe thead th {\n",
       "        text-align: right;\n",
       "    }\n",
       "</style>\n",
       "<table border=\"1\" class=\"dataframe\">\n",
       "  <thead>\n",
       "    <tr style=\"text-align: right;\">\n",
       "      <th></th>\n",
       "      <th>epoch</th>\n",
       "      <th>trainLoss</th>\n",
       "      <th>validationLoss</th>\n",
       "      <th>meanIoU</th>\n",
       "    </tr>\n",
       "  </thead>\n",
       "  <tbody>\n",
       "    <tr>\n",
       "      <th>0</th>\n",
       "      <td>0</td>\n",
       "      <td>2.145454</td>\n",
       "      <td>0.791320</td>\n",
       "      <td>0.553894</td>\n",
       "    </tr>\n",
       "    <tr>\n",
       "      <th>1</th>\n",
       "      <td>1</td>\n",
       "      <td>1.109636</td>\n",
       "      <td>0.923544</td>\n",
       "      <td>0.488263</td>\n",
       "    </tr>\n",
       "    <tr>\n",
       "      <th>2</th>\n",
       "      <td>2</td>\n",
       "      <td>0.934998</td>\n",
       "      <td>0.678461</td>\n",
       "      <td>0.543422</td>\n",
       "    </tr>\n",
       "    <tr>\n",
       "      <th>3</th>\n",
       "      <td>3</td>\n",
       "      <td>0.782496</td>\n",
       "      <td>0.503446</td>\n",
       "      <td>0.602517</td>\n",
       "    </tr>\n",
       "    <tr>\n",
       "      <th>4</th>\n",
       "      <td>4</td>\n",
       "      <td>0.574138</td>\n",
       "      <td>0.422235</td>\n",
       "      <td>0.689695</td>\n",
       "    </tr>\n",
       "    <tr>\n",
       "      <th>5</th>\n",
       "      <td>5</td>\n",
       "      <td>0.452313</td>\n",
       "      <td>0.382524</td>\n",
       "      <td>0.705216</td>\n",
       "    </tr>\n",
       "    <tr>\n",
       "      <th>6</th>\n",
       "      <td>6</td>\n",
       "      <td>0.389609</td>\n",
       "      <td>0.342046</td>\n",
       "      <td>0.728966</td>\n",
       "    </tr>\n",
       "    <tr>\n",
       "      <th>7</th>\n",
       "      <td>7</td>\n",
       "      <td>0.347888</td>\n",
       "      <td>0.317832</td>\n",
       "      <td>0.749242</td>\n",
       "    </tr>\n",
       "    <tr>\n",
       "      <th>8</th>\n",
       "      <td>8</td>\n",
       "      <td>0.315008</td>\n",
       "      <td>0.291244</td>\n",
       "      <td>0.757292</td>\n",
       "    </tr>\n",
       "    <tr>\n",
       "      <th>9</th>\n",
       "      <td>9</td>\n",
       "      <td>0.289926</td>\n",
       "      <td>0.271544</td>\n",
       "      <td>0.770271</td>\n",
       "    </tr>\n",
       "    <tr>\n",
       "      <th>10</th>\n",
       "      <td>10</td>\n",
       "      <td>0.266141</td>\n",
       "      <td>0.240227</td>\n",
       "      <td>0.800085</td>\n",
       "    </tr>\n",
       "    <tr>\n",
       "      <th>11</th>\n",
       "      <td>11</td>\n",
       "      <td>0.246083</td>\n",
       "      <td>0.288495</td>\n",
       "      <td>0.755823</td>\n",
       "    </tr>\n",
       "    <tr>\n",
       "      <th>12</th>\n",
       "      <td>12</td>\n",
       "      <td>0.230505</td>\n",
       "      <td>0.241592</td>\n",
       "      <td>0.802423</td>\n",
       "    </tr>\n",
       "    <tr>\n",
       "      <th>13</th>\n",
       "      <td>13</td>\n",
       "      <td>0.215383</td>\n",
       "      <td>0.204427</td>\n",
       "      <td>0.830279</td>\n",
       "    </tr>\n",
       "    <tr>\n",
       "      <th>14</th>\n",
       "      <td>14</td>\n",
       "      <td>0.203239</td>\n",
       "      <td>0.202784</td>\n",
       "      <td>0.833321</td>\n",
       "    </tr>\n",
       "    <tr>\n",
       "      <th>15</th>\n",
       "      <td>15</td>\n",
       "      <td>0.193106</td>\n",
       "      <td>0.195237</td>\n",
       "      <td>0.838911</td>\n",
       "    </tr>\n",
       "    <tr>\n",
       "      <th>16</th>\n",
       "      <td>16</td>\n",
       "      <td>0.183405</td>\n",
       "      <td>0.192490</td>\n",
       "      <td>0.844512</td>\n",
       "    </tr>\n",
       "    <tr>\n",
       "      <th>17</th>\n",
       "      <td>17</td>\n",
       "      <td>0.179492</td>\n",
       "      <td>0.190831</td>\n",
       "      <td>0.844583</td>\n",
       "    </tr>\n",
       "    <tr>\n",
       "      <th>18</th>\n",
       "      <td>18</td>\n",
       "      <td>0.175929</td>\n",
       "      <td>0.188322</td>\n",
       "      <td>0.845628</td>\n",
       "    </tr>\n",
       "    <tr>\n",
       "      <th>19</th>\n",
       "      <td>19</td>\n",
       "      <td>0.173862</td>\n",
       "      <td>0.187262</td>\n",
       "      <td>0.846045</td>\n",
       "    </tr>\n",
       "  </tbody>\n",
       "</table>\n",
       "</div>"
      ],
      "text/plain": [
       "    epoch  trainLoss  validationLoss   meanIoU\n",
       "0       0   2.145454        0.791320  0.553894\n",
       "1       1   1.109636        0.923544  0.488263\n",
       "2       2   0.934998        0.678461  0.543422\n",
       "3       3   0.782496        0.503446  0.602517\n",
       "4       4   0.574138        0.422235  0.689695\n",
       "5       5   0.452313        0.382524  0.705216\n",
       "6       6   0.389609        0.342046  0.728966\n",
       "7       7   0.347888        0.317832  0.749242\n",
       "8       8   0.315008        0.291244  0.757292\n",
       "9       9   0.289926        0.271544  0.770271\n",
       "10     10   0.266141        0.240227  0.800085\n",
       "11     11   0.246083        0.288495  0.755823\n",
       "12     12   0.230505        0.241592  0.802423\n",
       "13     13   0.215383        0.204427  0.830279\n",
       "14     14   0.203239        0.202784  0.833321\n",
       "15     15   0.193106        0.195237  0.838911\n",
       "16     16   0.183405        0.192490  0.844512\n",
       "17     17   0.179492        0.190831  0.844583\n",
       "18     18   0.175929        0.188322  0.845628\n",
       "19     19   0.173862        0.187262  0.846045"
      ]
     },
     "execution_count": 4,
     "metadata": {},
     "output_type": "execute_result"
    }
   ],
   "source": [
    "train_validate_model(model, epochs, model_name, criterion, optimizer, \n",
    "                    device, train_loader, val_loader, meanIoU, 'meanIoU',\n",
    "                    num_classes, lr_scheduler = scheduler, output_path = \"results\")"
   ]
  },
  {
   "cell_type": "markdown",
   "id": "7db7e88a-a238-48e9-9004-97f49169b61f",
   "metadata": {},
   "source": [
    "## 测试模型"
   ]
  },
  {
   "cell_type": "code",
   "execution_count": 5,
   "id": "55c3ecd2-220a-4ff6-b55d-b54ff610fb0b",
   "metadata": {},
   "outputs": [
    {
     "name": "stderr",
     "output_type": "stream",
     "text": [
      "100%|███████████████████████████████████████████████████████████████████████████████| 708/708 [07:36<00:00,  1.55it/s]\n"
     ]
    },
    {
     "data": {
      "text/plain": [
       "(0.18793548306839614, 0.8477307499105667)"
      ]
     },
     "execution_count": 5,
     "metadata": {},
     "output_type": "execute_result"
    }
   ],
   "source": [
    "from train import evaluate_model\n",
    "\n",
    "evaluate_model(model, test_loader, criterion, meanIoU, num_classes, device)"
   ]
  },
  {
   "cell_type": "markdown",
   "id": "36daf3b5-849a-4f85-866d-3cc552bc4827",
   "metadata": {},
   "source": [
    "## 可视化预测"
   ]
  },
  {
   "cell_type": "markdown",
   "id": "c2de1419-6e70-4ef5-8472-c5d27d0c350d",
   "metadata": {},
   "source": [
    "取test_txt中的前10张图片放入pre_txt中"
   ]
  },
  {
   "cell_type": "code",
   "execution_count": 14,
   "id": "d84751cf-1778-4e73-8e00-b5071da5f5b4",
   "metadata": {},
   "outputs": [
    {
     "ename": "ImportError",
     "evalue": "cannot import name 'get_pre_datasets' from 'datapre' (C:\\Users\\29779\\Desktop\\DL\\datapre.py)",
     "output_type": "error",
     "traceback": [
      "\u001b[1;31m---------------------------------------------------------------------------\u001b[0m",
      "\u001b[1;31mImportError\u001b[0m                               Traceback (most recent call last)",
      "Cell \u001b[1;32mIn[14], line 2\u001b[0m\n\u001b[0;32m      1\u001b[0m \u001b[38;5;28;01mfrom\u001b[39;00m \u001b[38;5;21;01mpredict\u001b[39;00m \u001b[38;5;28;01mimport\u001b[39;00m Predict\n\u001b[1;32m----> 2\u001b[0m \u001b[38;5;28;01mfrom\u001b[39;00m \u001b[38;5;21;01mdatapre\u001b[39;00m \u001b[38;5;28;01mimport\u001b[39;00m get_pre_datasets\n\u001b[0;32m      4\u001b[0m pre_set \u001b[38;5;241m=\u001b[39m get_pre_datasets(rootDir)\n\u001b[0;32m      6\u001b[0m \u001b[38;5;28mlen\u001b[39m(train_set)\n",
      "\u001b[1;31mImportError\u001b[0m: cannot import name 'get_pre_datasets' from 'datapre' (C:\\Users\\29779\\Desktop\\DL\\datapre.py)"
     ]
    }
   ],
   "source": [
    "from predict import Predict\n",
    "from datapre import get_pre_datasets\n",
    "\n",
    "pre_set = get_pre_datasets(rootDir)\n",
    "\n",
    "len(train_set)"
   ]
  },
  {
   "cell_type": "markdown",
   "id": "fd3f4152-44c1-4a30-a5a6-4336e48796a1",
   "metadata": {},
   "source": [
    "参考资料：https://github.com/hankkkwu/SegFormer-pytorch"
   ]
  },
  {
   "cell_type": "code",
   "execution_count": null,
   "id": "b5fe476a-70d1-4da1-819b-80cbb7579f26",
   "metadata": {},
   "outputs": [],
   "source": []
  }
 ],
 "metadata": {
  "kernelspec": {
   "display_name": "pytorch-pro",
   "language": "python",
   "name": "pytorch-pro"
  },
  "language_info": {
   "codemirror_mode": {
    "name": "ipython",
    "version": 3
   },
   "file_extension": ".py",
   "mimetype": "text/x-python",
   "name": "python",
   "nbconvert_exporter": "python",
   "pygments_lexer": "ipython3",
   "version": "3.8.18"
  }
 },
 "nbformat": 4,
 "nbformat_minor": 5
}
